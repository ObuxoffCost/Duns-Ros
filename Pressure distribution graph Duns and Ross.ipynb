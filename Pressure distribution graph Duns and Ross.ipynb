{
 "cells": [
  {
   "cell_type": "code",
   "execution_count": 1,
   "id": "e15b22de",
   "metadata": {},
   "outputs": [],
   "source": [
    "import math\n",
    "import Duns_and_Ros as dr\n",
    "import matplotlib.pyplot as plt\n",
    "import numpy as np"
   ]
  },
  {
   "cell_type": "code",
   "execution_count": 2,
   "id": "e3da287d",
   "metadata": {},
   "outputs": [
    {
     "name": "stdout",
     "output_type": "stream",
     "text": [
      "Введите 0 если надо найти Устьевое давление,1 если Забойное 1\n",
      "Введите Устьевое давление 2\n"
     ]
    }
   ],
   "source": [
    "\"\"\"l = float(input('Введите глубину скважины, м '))\n",
    "d = float(input('Введите диаметр газа, м '))\n",
    "eps = float(input('Введите значение шероховатости, м '))\n",
    "mu_g = float(input('Введите значение вязкости газа, Па*с '))\n",
    "sigm = float(input('Введите значение поверхнастного натяжения, кг/с2 '))\n",
    "q_l = float(input('Введите дебит жидкости, м3/с '))\n",
    "q_g = float(input('Введите дебит газа, м3/с '))\n",
    "ro_l = float(input('Введите плотность жидкости, кг/м3 '))\n",
    "ro_g = float(input('Введите плотность газа, кг/м3 '))\"\"\"\n",
    "\n",
    "mu_o = float(0.97/1000)\n",
    "mu_g = float(0.016/1000)\n",
    "sigm = float(8.41/1000)\n",
    "d = float(0.1524)\n",
    "q_l = float(0.022)\n",
    "q_g = float(0.0214)\n",
    "ro_l = float(762.64)\n",
    "ro_g = float(94.19)\n",
    "eps = float(18.288*10**(-6))\n",
    "l = 3000\n",
    "serch = int(input(\"Введите 0 если надо найти Устьевое давление,1 если Забойное \"))\n",
    "if serch == 0:\n",
    "    p_wf = float(input(\"Введите Забойное давление \"))\n",
    "    p_wh = 0\n",
    "else:\n",
    "    p_wh = float(input(\"Введите Устьевое давление \"))\n",
    "    p_wf = 0\n",
    "flow, v_sl, v_sg, N_lv, N_gv, N_d, N_l = dr.define_fp(d, q_l, q_g, ro_l, sigm, mu_o)"
   ]
  },
  {
   "cell_type": "code",
   "execution_count": 3,
   "id": "3997dc11",
   "metadata": {},
   "outputs": [],
   "source": [
    "def calc_abc(l, p_wf, p_wh):\n",
    "    if p_wf==0:\n",
    "        return dr.calc_grad(N_gv, N_d, N_lv, N_l, ro_l, ro_g, v_sg, v_sl, sigm, q_l, q_g, mu_o, mu_g, d, eps, serch, p_wf, p_wh, flow, l)*l+p_wh\n",
    "    else:\n",
    "        return p_wf-dr.calc_grad(N_gv, N_d, N_lv, N_l, ro_l, ro_g, v_sg, v_sl, sigm, q_l, q_g, mu_o, mu_g, d, eps, serch, p_wf, p_wh, flow, l)*l"
   ]
  },
  {
   "cell_type": "code",
   "execution_count": 4,
   "id": "b4c25e50",
   "metadata": {},
   "outputs": [
    {
     "name": "stdout",
     "output_type": "stream",
     "text": [
      "Пузырьковый поток\n"
     ]
    }
   ],
   "source": [
    "print(flow)\n",
    "spisok=[calc_abc(i, p_wf, p_wh) for i in range(l+1)]\n",
    "if spisok[0]>spisok[1]:\n",
    "    spisok.reverse()"
   ]
  },
  {
   "cell_type": "code",
   "execution_count": 5,
   "id": "4e5d66af",
   "metadata": {},
   "outputs": [
    {
     "name": "stdout",
     "output_type": "stream",
     "text": [
      "Тип потока: Пузырьковый поток\n",
      "Градиент давления равения dp_dl =  0.004714898838031146 , МПа\n",
      "Забойное давление p_wf =  16.14469651409344 , МПа\n"
     ]
    },
    {
     "data": {
      "text/plain": [
       "Text(0, 0.5, 'P, МПа')"
      ]
     },
     "execution_count": 5,
     "metadata": {},
     "output_type": "execute_result"
    },
    {
     "data": {
      "image/png": "[encoded data removed]",
      "text/plain": [
       "<Figure size 720x720 with 1 Axes>"
      ]
     },
     "metadata": {
      "needs_background": "light"
     },
     "output_type": "display_data"
    }
   ],
   "source": [
    "print('Тип потока:', flow)\n",
    "print('Градиент давления равения dp_dl = ', dr.calc_grad(N_gv, N_d, N_lv, N_l, ro_l, ro_g, v_sg, v_sl, sigm, q_l, q_g, mu_o, mu_g, d, eps, serch, p_wf, p_wh, flow, l), ', МПа')\n",
    "if serch == 0:\n",
    "    print('Устьевое давление p_wh = ', dr.calc_pressure(N_gv, N_d, N_lv, N_l, ro_l, ro_g, v_sg, v_sl, sigm, q_l, q_g, mu_o, mu_g, d, eps, serch, p_wf, p_wh, flow, l), ', МПа')\n",
    "else:\n",
    "    print('Забойное давление p_wf = ', dr.calc_pressure(N_gv, N_d, N_lv, N_l, ro_l, ro_g, v_sg, v_sl, sigm, q_l, q_g, mu_o, mu_g, d, eps, serch, p_wf, p_wh, flow, l), ', МПа')\n",
    "\n",
    "plt.figure(figsize=(10, 10))\n",
    "c=[]\n",
    "for i in range(l+1):\n",
    "    c.append(i)\n",
    "plt.plot(c, spisok)\n",
    "plt.title(\"График распределения давления\")\n",
    "plt.xlabel(\"l, м\")\n",
    "plt.ylabel(\"P, МПа\")"
   ]
  },
  {
   "cell_type": "code",
   "execution_count": null,
   "id": "1cdc7b42",
   "metadata": {},
   "outputs": [],
   "source": []
  }
 ],
 "metadata": {
  "kernelspec": {
   "display_name": "Python 3 (ipykernel)",
   "language": "python",
   "name": "python3"
  },
  "language_info": {
   "codemirror_mode": {
    "name": "ipython",
    "version": 3
   },
   "file_extension": ".py",
   "mimetype": "text/x-python",
   "name": "python",
   "nbconvert_exporter": "python",
   "pygments_lexer": "ipython3",
   "version": "3.9.7"
  }
 },
 "nbformat": 4,
 "nbformat_minor": 5
}
