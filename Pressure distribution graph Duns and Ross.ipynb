{
 "cells": [
  {
   "cell_type": "code",
   "execution_count": 1,
   "id": "27e51ff5",
   "metadata": {},
   "outputs": [],
   "source": [
    "import Duns_and_Ros as dr\n",
    "import matplotlib.pyplot as plt\n",
    "import numpy as np"
   ]
  },
  {
   "cell_type": "code",
   "execution_count": 2,
   "id": "0a5fc270",
   "metadata": {},
   "outputs": [
    {
     "name": "stdout",
     "output_type": "stream",
     "text": [
      "Введите 0 если надо найти Устьевое давление,1 если Забойное 1\n",
      "Введите Устьевое давление 2\n"
     ]
    }
   ],
   "source": [
    "\"\"\"\n",
    "l = float(input('Введите глубину скважины, м '))\n",
    "d = float(input('Введите диаметр скважины, м '))\n",
    "eps = float(input('Введите значение шероховатости, м '))\n",
    "mu_o = float(input('Введите значение вязкости нефти, Па*с'))\n",
    "mu_g = float(input('Введите значение вязкости газа, Па*с '))\n",
    "sigm = float(input('Введите значение поверхнастного натяжения, кг/с2 '))\n",
    "q_l = float(input('Введите дебит жидкости, м3/с '))\n",
    "q_g = float(input('Введите дебит газа, м3/с '))\n",
    "ro_l = float(input('Введите плотность жидкости, кг/м3 '))\n",
    "ro_g = float(input('Введите плотность газа, кг/м3 '))\n",
    "\n",
    "\"\"\"\n",
    "\n",
    "mu_o = float(0.97/1000)\n",
    "mu_g = float(0.016/1000)\n",
    "sigm = float(8.41/1000)\n",
    "d = float(0.1524)\n",
    "q_l = float(0.022)\n",
    "q_g = float(1.0214)\n",
    "ro_l = float(762.64)\n",
    "ro_g = float(0.9419)\n",
    "eps = float(18.288*10**(-6))\n",
    "l = 3000\n",
    "\n",
    "surch = int(input(\"Введите 0 если надо найти Устьевое давление,1 если Забойное \"))\n",
    "if surch == 0:\n",
    "    p_wf = float(input(\"Введите Забойное давление \"))\n",
    "    p_wh = 0\n",
    "else:\n",
    "    p_wh = float(input(\"Введите Устьевое давление \"))\n",
    "    p_wf = 0"
   ]
  },
  {
   "cell_type": "code",
   "execution_count": 3,
   "id": "88d72114",
   "metadata": {},
   "outputs": [],
   "source": [
    "flow, v_sl, v_sg, N_lv, N_gv, N_d, N_l = dr.define_fp(d, q_l, q_g, ro_l, sigm, mu_o)"
   ]
  },
  {
   "cell_type": "code",
   "execution_count": 4,
   "id": "83a548cb",
   "metadata": {},
   "outputs": [],
   "source": [
    "def calc_abc(l, p_wf, p_wh):\n",
    "    \"\"\"Функция считающая давление на качждом участке скважины\"\"\"\n",
    "    if p_wf == 0:\n",
    "        return dr.calc_grad(N_gv, N_d, N_lv, N_l, ro_l, ro_g, v_sg, v_sl, sigm, q_l, q_g, mu_o, mu_g, d, eps, surch, p_wf, p_wh, l, flow)*l*10**-6+p_wh\n",
    "    else:\n",
    "        return p_wf-dr.calc_grad(N_gv, N_d, N_lv, N_l, ro_l, ro_g, v_sg, v_sl, sigm, q_l, q_g, mu_o, mu_g, d, eps, surch, p_wf, p_wh, l, flow)*l*10**-6"
   ]
  },
  {
   "cell_type": "code",
   "execution_count": 5,
   "id": "5765ecf3",
   "metadata": {},
   "outputs": [],
   "source": [
    "#Создание списка давлений по глубине скважины\n",
    "spisok=[calc_abc(i, p_wf, p_wh) for i in range(l+1)]\n",
    "if spisok[0]>spisok[7]:\n",
    "    spisok.reverse()"
   ]
  },
  {
   "cell_type": "code",
   "execution_count": 6,
   "id": "e55764ad",
   "metadata": {},
   "outputs": [
    {
     "name": "stdout",
     "output_type": "stream",
     "text": [
      "Тип потока: Переходный\n",
      "Градиент давления равения dp_dl =  0.0007814927064605715 , МПа\n",
      "Забойное давление p_wf =  4.344478119381714 , МПа\n"
     ]
    }
   ],
   "source": [
    "if flow == 0:\n",
    "    print('Тип потока: Пузырьковый')\n",
    "elif flow == 1:\n",
    "    print('Тип потока: Пробковый')\n",
    "elif flow == 2:\n",
    "    print('Тип потока: Эмульсионный')\n",
    "elif flow == 3:\n",
    "    print('Тип потока: Переходный')\n",
    "\n",
    "print('Градиент давления равения dp_dl = ', dr.calc_grad(N_gv, N_d, N_lv, N_l, ro_l, ro_g, v_sg, v_sl, sigm, q_l, q_g, mu_o, mu_g, d, eps, surch, p_wf, p_wh, l, flow)*10**-6, ', МПа')\n",
    "if surch == 0:\n",
    "    print('Устьевое давление p_wh = ', dr.calc_pressure(N_gv, N_d, N_lv, N_l, ro_l, ro_g, v_sg, v_sl, sigm, q_l, q_g, mu_o, mu_g, d, eps, surch, p_wf, p_wh, flow, l), ', МПа')\n",
    "else:\n",
    "    print('Забойное давление p_wf = ', dr.calc_pressure(N_gv, N_d, N_lv, N_l, ro_l, ro_g, v_sg, v_sl, sigm, q_l, q_g, mu_o, mu_g, d, eps, surch, p_wf, p_wh, flow, l), ', МПа')"
   ]
  },
  {
   "cell_type": "code",
   "execution_count": 7,
   "id": "3af78e4d",
   "metadata": {},
   "outputs": [
    {
     "data": {
      "text/plain": [
       "Text(0, 0.5, 'P, МПа')"
      ]
     },
     "execution_count": 7,
     "metadata": {},
     "output_type": "execute_result"
    },
    {
     "data": {
      "image/png": "[encoded data removed]",
      "text/plain": [
       "<Figure size 720x720 with 1 Axes>"
      ]
     },
     "metadata": {
      "needs_background": "light"
     },
     "output_type": "display_data"
    }
   ],
   "source": [
    "plt.figure(figsize=(10, 10))\n",
    "c=[]\n",
    "for i in range(l+1):\n",
    "    c.append(i)\n",
    "plt.plot(c, spisok)\n",
    "plt.title(\"График распределения давления\")\n",
    "plt.xlabel(\"l, м\")\n",
    "plt.ylabel(\"P, МПа\")"
   ]
  },
  {
   "cell_type": "code",
   "execution_count": 8,
   "id": "cd3ca156",
   "metadata": {},
   "outputs": [],
   "source": [
    "#Построение графика VLP\n",
    "q_liq = 25.0   #По результатам ГДИС (Гидродинамические исследования скважин)\n",
    "pb = 23        #Давление насыщения\n",
    "p_wf = 18      #Забойное давление по результатам ГДИС\n",
    "p_res = 35     #Пластовое давление"
   ]
  },
  {
   "cell_type": "code",
   "execution_count": 9,
   "id": "f357c182",
   "metadata": {},
   "outputs": [],
   "source": [
    "def calc_B (p_wf: float, p_res: float, pb: float):\n",
    "    pr = min(pb, p_res)\n",
    "    B = 1-0.2*(p_wf/pr)-0.8*(p_wf/pr)**2\n",
    "    return B"
   ]
  },
  {
   "cell_type": "code",
   "execution_count": 10,
   "id": "a43597ee",
   "metadata": {},
   "outputs": [
    {
     "name": "stdout",
     "output_type": "stream",
     "text": [
      "qb =  18.163205615677096\n",
      "q_max =  37.503656039777724\n"
     ]
    }
   ],
   "source": [
    "qb = 1.8*q_liq*(p_res-pb)/(1.8*(p_res-pb)+pb*calc_B(p_wf, p_res, pb))\n",
    "print(\"qb = \", qb)\n",
    "PI = qb/(p_res-pb)\n",
    "q_max = (q_liq-qb*(1-calc_B(p_wf, p_res, pb)))/calc_B(p_wf, p_res, pb)\n",
    "print(\"q_max = \", q_max)"
   ]
  },
  {
   "cell_type": "code",
   "execution_count": 11,
   "id": "8f1426dc",
   "metadata": {},
   "outputs": [],
   "source": [
    "def q_vogel(p_wf: float, q_liq: float, p_res: float, pb: float, PI: float) -> float:\n",
    "        \"\"\"\n",
    "        Функция расчета дебита от забойного давления по Вогелю\n",
    "\n",
    "        Parameters\n",
    "        ----------\n",
    "        :param q_liq: значение расхода, (м3/сут)\n",
    "        :param p_res: пластовое давление, (МПа)\n",
    "        :param pb: давление насыщения, (МПа)\n",
    "        :param PI: коэффициент продуктивности, (м3/сут/МПа)\n",
    "\n",
    "        :return: p_wf: забойное давление, (МПа)\n",
    "        -------\n",
    "        \"\"\"\n",
    "\n",
    "        # проверка  данных\n",
    "        try:\n",
    "            if q_liq <= 0 or pb <= 0 or p_res <= 0:\n",
    "                raise ValueError\n",
    "        except TypeError:\n",
    "            raise ValueError\n",
    "            \n",
    "        if p_wf >= pb:\n",
    "            q = PI*(p_res-p_wf)\n",
    "            return q\n",
    "        else:\n",
    "            q = q_max*calc_B(p, p_res, pb)-qb*(calc_B(p, p_res, pb)-1)\n",
    "            return q\n",
    "        \n",
    "        "
   ]
  },
  {
   "cell_type": "code",
   "execution_count": 12,
   "id": "adbbddf3",
   "metadata": {},
   "outputs": [],
   "source": [
    "p_array = np.arange(0, p_res, 1)\n",
    "q_wf_array= []\n",
    "for p in p_array:\n",
    "    q_wf_array.append(q_vogel(p, q_liq, p_res, pb, PI))"
   ]
  },
  {
   "cell_type": "code",
   "execution_count": 13,
   "id": "b285e620",
   "metadata": {},
   "outputs": [
    {
     "data": {
      "text/plain": [
       "Text(0, 0.5, 'P_wf, МПа')"
      ]
     },
     "execution_count": 13,
     "metadata": {},
     "output_type": "execute_result"
    },
    {
     "data": {
      "image/png": "[encoded data removed]",
      "text/plain": [
       "<Figure size 720x720 with 1 Axes>"
      ]
     },
     "metadata": {
      "needs_background": "light"
     },
     "output_type": "display_data"
    }
   ],
   "source": [
    "plt.figure(figsize=(10, 10))\n",
    "plt.plot(q_wf_array, p_array)\n",
    "plt.title(\"VLP\")\n",
    "plt.xlabel(\"q, м\")\n",
    "plt.ylabel(\"P_wf, МПа\")"
   ]
  },
  {
   "cell_type": "code",
   "execution_count": null,
   "id": "4c2278a3",
   "metadata": {},
   "outputs": [],
   "source": []
  }
 ],
 "metadata": {
  "kernelspec": {
   "display_name": "Python 3 (ipykernel)",
   "language": "python",
   "name": "python3"
  },
  "language_info": {
   "codemirror_mode": {
    "name": "ipython",
    "version": 3
   },
   "file_extension": ".py",
   "mimetype": "text/x-python",
   "name": "python",
   "nbconvert_exporter": "python",
   "pygments_lexer": "ipython3",
   "version": "3.9.7"
  }
 },
 "nbformat": 4,
 "nbformat_minor": 5
}
